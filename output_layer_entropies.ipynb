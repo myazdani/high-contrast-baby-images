{
  "cells": [
    {
      "cell_type": "markdown",
      "metadata": {
        "id": "view-in-github",
        "colab_type": "text"
      },
      "source": [
        "<a href=\"https://colab.research.google.com/github/myazdani/high-contrast-baby-images/blob/main/output_layer_entropies.ipynb\" target=\"_parent\"><img src=\"https://colab.research.google.com/assets/colab-badge.svg\" alt=\"Open In Colab\"/></a>"
      ]
    },
    {
      "cell_type": "code",
      "execution_count": 1,
      "metadata": {
        "id": "Zfz1_MqfN7qE"
      },
      "outputs": [],
      "source": [
        "import torch\n",
        "import torchvision.models as models\n",
        "import torchvision.transforms as transforms\n",
        "from PIL import Image\n",
        "import glob"
      ]
    },
    {
      "cell_type": "markdown",
      "metadata": {
        "id": "JKF84Ilc7IsX"
      },
      "source": [
        "## download images\n",
        "\n",
        "Two data sets:\n",
        "1. **ImageNet sample:** found sample of images from ImageNet on github\n",
        "2. **Random images**: download random images from unsplash image hosting site with ImageNet class names"
      ]
    },
    {
      "cell_type": "code",
      "execution_count": 2,
      "metadata": {
        "colab": {
          "base_uri": "https://localhost:8080/"
        },
        "id": "VoTb8ucgGxNc",
        "outputId": "ade2ca64-e24c-46ba-882b-6b8a2d6cdcb2"
      },
      "outputs": [
        {
          "output_type": "stream",
          "name": "stdout",
          "text": [
            "Cloning into 'imagenet-sample-images'...\n",
            "remote: Enumerating objects: 1012, done.\u001b[K\n",
            "remote: Counting objects: 100% (10/10), done.\u001b[K\n",
            "remote: Compressing objects: 100% (8/8), done.\u001b[K\n",
            "remote: Total 1012 (delta 3), reused 5 (delta 2), pack-reused 1002\u001b[K\n",
            "Receiving objects: 100% (1012/1012), 103.84 MiB | 30.67 MiB/s, done.\n",
            "Resolving deltas: 100% (3/3), done.\n"
          ]
        }
      ],
      "source": [
        "#download sample of ImageNet images\n",
        "!git clone https://github.com/EliSchwartz/imagenet-sample-images.git\n",
        "\n",
        "\n",
        "image_files = glob.glob('./imagenet-sample-images/*.JPEG')"
      ]
    },
    {
      "cell_type": "code",
      "execution_count": 3,
      "metadata": {
        "id": "C0t03XqA6rLz"
      },
      "outputs": [],
      "source": [
        "import re\n",
        "image_classes = []\n",
        "for image_file in image_files:\n",
        "    m = re.search('n[0-9]+_', image_file)\n",
        "    img_id = m.group(0)\n",
        "    image_class = image_file.split(img_id)[1].split(\".JPEG\")[0]\n",
        "    image_classes.append(image_class)"
      ]
    },
    {
      "cell_type": "code",
      "execution_count": 4,
      "metadata": {
        "id": "DWTZgQSq6mVM"
      },
      "outputs": [],
      "source": [
        "import requests\n",
        "import random\n",
        "import string\n",
        "from PIL import Image\n",
        "\n",
        "\n",
        "def download_images(image_class, image_dir, num_images=1):\n",
        "    for i in range(num_images):\n",
        "        # Generate image URL based on image class\n",
        "        image_url = f\"https://source.unsplash.com/random/800x600/?{image_class}\"\n",
        "\n",
        "\n",
        "        # Download the image\n",
        "        response = requests.get(image_url)\n",
        "        if response.status_code == 200:\n",
        "            image_path = f\"{image_dir}{image_class}_{i}.jpg\"\n",
        "            with open(image_path, 'wb') as file:\n",
        "                file.write(response.content)\n",
        "        else:\n",
        "            print(f\"Failed to download image {image_class} {i+1} from: {image_url}\")\n",
        "\n",
        "\n"
      ]
    },
    {
      "cell_type": "code",
      "execution_count": 5,
      "metadata": {
        "id": "XjuRI_63ShO8"
      },
      "outputs": [],
      "source": [
        "!mkdir unsplash-images/\n",
        "for image_class in image_classes[:10]:\n",
        "    download_images(image_class, image_dir = \"./unsplash-images/\", num_images=1)"
      ]
    },
    {
      "cell_type": "code",
      "source": [
        "unsplash_image_files = glob.glob('./unsplash-images/*.jpg')"
      ],
      "metadata": {
        "id": "hWkiuhu2EwPY"
      },
      "execution_count": 6,
      "outputs": []
    },
    {
      "cell_type": "code",
      "source": [
        "!git clone https://github.com/myazdani/high-contrast-baby-images.git"
      ],
      "metadata": {
        "colab": {
          "base_uri": "https://localhost:8080/"
        },
        "id": "TnlVPi5DJtrg",
        "outputId": "ae32942d-c2a9-4783-e9fb-5d58499a1de9"
      },
      "execution_count": 7,
      "outputs": [
        {
          "output_type": "stream",
          "name": "stdout",
          "text": [
            "Cloning into 'high-contrast-baby-images'...\n",
            "remote: Enumerating objects: 53, done.\u001b[K\n",
            "remote: Counting objects: 100% (53/53), done.\u001b[K\n",
            "remote: Compressing objects: 100% (44/44), done.\u001b[K\n",
            "remote: Total 53 (delta 13), reused 36 (delta 7), pack-reused 0\u001b[K\n",
            "Receiving objects: 100% (53/53), 41.05 KiB | 2.41 MiB/s, done.\n",
            "Resolving deltas: 100% (13/13), done.\n"
          ]
        }
      ]
    },
    {
      "cell_type": "code",
      "source": [
        "high_contrast_images = glob.glob('./high-contrast-baby-images/images/*.png')"
      ],
      "metadata": {
        "id": "Oci7MaX9KIv9"
      },
      "execution_count": 9,
      "outputs": []
    },
    {
      "cell_type": "markdown",
      "metadata": {
        "id": "ZHX8cVOZ7Nux"
      },
      "source": [
        "## helpers"
      ]
    },
    {
      "cell_type": "code",
      "execution_count": 10,
      "metadata": {
        "id": "T_ZymLepQcu_"
      },
      "outputs": [],
      "source": [
        "class ActivationExtractor:\n",
        "    def __init__(self, model, transform=None):\n",
        "        self.model = model\n",
        "        if transform is not None:\n",
        "            self.transform = transform\n",
        "        else:\n",
        "            self.transform = transforms.Compose([\n",
        "                    transforms.Resize(256),\n",
        "                    transforms.CenterCrop(224),\n",
        "                    transforms.ToTensor(),\n",
        "                    transforms.Normalize(mean=[0.485, 0.456, 0.406], std=[0.229, 0.224, 0.225]),\n",
        "            ])\n",
        "        self.model.eval()\n",
        "        self.activations = {}\n",
        "\n",
        "\n",
        "    def _register_hook(self, layer_name):\n",
        "        def hook(model, input, output):\n",
        "            self.activations[layer_name] = output.detach()\n",
        "        return hook\n",
        "\n",
        "    def _transform_image(self, image_path):\n",
        "        image = Image.open(image_path)\n",
        "        image = self.transform(image)\n",
        "        image = image.unsqueeze(0)  # add a dimension for the batch\n",
        "        return image\n",
        "\n",
        "    def get_activations_by_name(self, image_path, layer_name):\n",
        "        # Attach the hook\n",
        "        layer = dict([*self.model.named_modules()])[layer_name]\n",
        "        handle = layer.register_forward_hook(self._register_hook(layer_name))\n",
        "\n",
        "        # Prepare and run the input image through the model\n",
        "        image = self._transform_image(image_path)\n",
        "        self.model(image)\n",
        "\n",
        "        # Remove the hook\n",
        "        handle.remove()\n",
        "\n",
        "        return self.activations[layer_name]\n",
        "\n",
        "    def get_activations_by_index(self, image_path, layer_index):\n",
        "        layer_name = list(dict([*self.model.named_modules()]).keys())[layer_index]\n",
        "        return self.get_activations_by_name(image_path, layer_name)\n",
        "\n",
        "    def get_flattened_activations(self, image_path, layer_name):\n",
        "        return self.get_activations(image_path, layer_name).flatten()\n",
        "\n",
        "import copy\n",
        "\n",
        "def combine_models(model_cls, alpha=0.5):\n",
        "    model_pretrained = model_cls(pretrained=True)\n",
        "    model_random = model_cls(pretrained=False)\n",
        "    model_combined = copy.deepcopy(model_pretrained)\n",
        "\n",
        "    for (name_combined, param_combined), (_, param_random) in zip(model_combined.named_parameters(), model_random.named_parameters()):\n",
        "        param_combined.data = alpha * param_combined.data + (1 - alpha) * param_random.data\n",
        "\n",
        "    return model_combined\n"
      ]
    },
    {
      "cell_type": "code",
      "execution_count": 11,
      "metadata": {
        "id": "1fSjCJv98bk5"
      },
      "outputs": [],
      "source": [
        "def fetch_entropies(extractor, image_files):\n",
        "    entropies = []\n",
        "    bad_images = []\n",
        "    for image_file in image_files:\n",
        "        try:\n",
        "            activations = extractor.get_activations_by_index(image_file, -1)  # for last layer\n",
        "            p = torch.nn.functional.softmax(activations.flatten())\n",
        "            H = -torch.sum(p*torch.nn.functional.log_softmax(activations.flatten()))\n",
        "            entropies.append(H)\n",
        "        except:\n",
        "            bad_images.append(image_file)\n",
        "    return entropies, bad_images"
      ]
    },
    {
      "cell_type": "markdown",
      "metadata": {
        "id": "bG8ZqbtY7S_q"
      },
      "source": [
        "## VGG entropies"
      ]
    },
    {
      "cell_type": "code",
      "execution_count": 12,
      "metadata": {
        "colab": {
          "base_uri": "https://localhost:8080/"
        },
        "id": "9Y6K0ipBSuaf",
        "outputId": "9adfc305-cb87-4c5d-e8b5-875b179a6292"
      },
      "outputs": [
        {
          "output_type": "stream",
          "name": "stderr",
          "text": [
            "/usr/local/lib/python3.10/dist-packages/torchvision/models/_utils.py:208: UserWarning: The parameter 'pretrained' is deprecated since 0.13 and may be removed in the future, please use 'weights' instead.\n",
            "  warnings.warn(\n",
            "/usr/local/lib/python3.10/dist-packages/torchvision/models/_utils.py:223: UserWarning: Arguments other than a weight enum or `None` for 'weights' are deprecated since 0.13 and may be removed in the future. The current behavior is equivalent to passing `weights=VGG16_Weights.IMAGENET1K_V1`. You can also use `weights=VGG16_Weights.DEFAULT` to get the most up-to-date weights.\n",
            "  warnings.warn(msg)\n",
            "Downloading: \"https://download.pytorch.org/models/vgg16-397923af.pth\" to /root/.cache/torch/hub/checkpoints/vgg16-397923af.pth\n",
            "100%|██████████| 528M/528M [00:05<00:00, 95.8MB/s]\n",
            "<ipython-input-11-c751040264c3>:7: UserWarning: Implicit dimension choice for softmax has been deprecated. Change the call to include dim=X as an argument.\n",
            "  p = torch.nn.functional.softmax(activations.flatten())\n",
            "<ipython-input-11-c751040264c3>:8: UserWarning: Implicit dimension choice for log_softmax has been deprecated. Change the call to include dim=X as an argument.\n",
            "  H = -torch.sum(p*torch.nn.functional.log_softmax(activations.flatten()))\n"
          ]
        },
        {
          "output_type": "stream",
          "name": "stdout",
          "text": [
            "CPU times: user 9min 56s, sys: 15.2 s, total: 10min 11s\n",
            "Wall time: 10min 43s\n"
          ]
        }
      ],
      "source": [
        "%%time\n",
        "extractor = ActivationExtractor(models.vgg16(pretrained=True))\n",
        "vgg_trained_entropies = fetch_entropies(extractor, image_files)\n",
        "vgg_trained_unsplash_entropies = fetch_entropies(extractor, unsplash_image_files)\n",
        "vgg_trained_high_contrast_entropies = fetch_entropies(extractor, high_contrast_images)"
      ]
    },
    {
      "cell_type": "code",
      "execution_count": 13,
      "metadata": {
        "colab": {
          "base_uri": "https://localhost:8080/"
        },
        "id": "_Up7ySoiT99W",
        "outputId": "4710a9f6-a96d-4ee3-b4ad-4fe47aaf07d0"
      },
      "outputs": [
        {
          "output_type": "stream",
          "name": "stderr",
          "text": [
            "/usr/local/lib/python3.10/dist-packages/torchvision/models/_utils.py:223: UserWarning: Arguments other than a weight enum or `None` for 'weights' are deprecated since 0.13 and may be removed in the future. The current behavior is equivalent to passing `weights=None`.\n",
            "  warnings.warn(msg)\n",
            "<ipython-input-11-c751040264c3>:7: UserWarning: Implicit dimension choice for softmax has been deprecated. Change the call to include dim=X as an argument.\n",
            "  p = torch.nn.functional.softmax(activations.flatten())\n",
            "<ipython-input-11-c751040264c3>:8: UserWarning: Implicit dimension choice for log_softmax has been deprecated. Change the call to include dim=X as an argument.\n",
            "  H = -torch.sum(p*torch.nn.functional.log_softmax(activations.flatten()))\n"
          ]
        },
        {
          "output_type": "stream",
          "name": "stdout",
          "text": [
            "CPU times: user 9min 33s, sys: 27.9 s, total: 10min 1s\n",
            "Wall time: 10min 4s\n"
          ]
        }
      ],
      "source": [
        "%%time\n",
        "extractor = ActivationExtractor(models.vgg16(pretrained=False))\n",
        "vgg_untrained_entropies = fetch_entropies(extractor, image_files)\n",
        "vgg_untrained_unsplash_entropies = fetch_entropies(extractor, unsplash_image_files)\n",
        "vgg_untrained_high_contrast_entropies = fetch_entropies(extractor, high_contrast_images)"
      ]
    },
    {
      "cell_type": "markdown",
      "metadata": {
        "id": "jSKt2K-0U4GM"
      },
      "source": [
        "## visualize results"
      ]
    },
    {
      "cell_type": "code",
      "execution_count": 16,
      "metadata": {
        "id": "uhJdPFIYU3Lx"
      },
      "outputs": [],
      "source": [
        "import matplotlib.pyplot as plt\n",
        "import numpy as np"
      ]
    },
    {
      "cell_type": "code",
      "execution_count": 17,
      "metadata": {
        "id": "KEOnhUloU8wb",
        "colab": {
          "base_uri": "https://localhost:8080/",
          "height": 462
        },
        "outputId": "0e2207e9-e794-4879-c52c-f277f9b74148"
      },
      "outputs": [
        {
          "output_type": "display_data",
          "data": {
            "text/plain": [
              "<Figure size 640x480 with 1 Axes>"
            ],
            "image/png": "[encoded data removed]"
          },
          "metadata": {}
        }
      ],
      "source": [
        "\n",
        "\n",
        "results = [\n",
        "    vgg_untrained_entropies[0],\n",
        "    vgg_trained_entropies[0],\n",
        "    vgg_untrained_unsplash_entropies[0],\n",
        "    vgg_trained_unsplash_entropies[0],\n",
        "    vgg_untrained_high_contrast_entropies[0],\n",
        "    vgg_trained_high_contrast_entropies[0],\n",
        "]\n",
        "plt.plot([0,1], results[:2], '.', color = 'grey', alpha = 0.1);\n",
        "plt.plot([2,3], results[2:4], '.', color = 'grey', alpha = 0.1);\n",
        "plt.plot([4,5], results[4:], '.', color = 'grey', alpha = 0.9);\n",
        "avg_results = [\n",
        "    torch.mean(torch.tensor(vgg_untrained_entropies[0])),\n",
        "    torch.mean(torch.tensor(vgg_trained_entropies[0])),\n",
        "    torch.mean(torch.tensor(vgg_untrained_unsplash_entropies[0])),\n",
        "    torch.mean(torch.tensor(vgg_trained_unsplash_entropies[0])),\n",
        "    torch.mean(torch.tensor(vgg_untrained_high_contrast_entropies[0])),\n",
        "    torch.mean(torch.tensor(vgg_trained_high_contrast_entropies[0])),\n",
        "]\n",
        "plt.plot([0,1], avg_results[:2], '-o', color = 'red');\n",
        "plt.plot([2,3], avg_results[2:4], '-o', color = 'red');\n",
        "plt.plot([4,5], avg_results[4:], '-o', color = 'red', label = \"avg entropy\");\n",
        "plt.ylabel(\"Softmax layer entropy (Nats)\")\n",
        "xlabels = [\n",
        "    \"Untrained\\nVGG\",\n",
        "    \"Trained\\nVGG\",\n",
        "    \"Untrained\\nVGG\\nUnsplash\",\n",
        "    \"Trained\\nVGG\\nUnsplash\",\n",
        "    \"Untrained\\nVGG\\High Contrast\",\n",
        "    \"Trained\\nVGG\\nHigh Contrast\",\n",
        "]\n",
        "plt.xticks([0,1,2,3,4,5], xlabels)\n",
        "plt.legend();"
      ]
    },
    {
      "cell_type": "code",
      "source": [],
      "metadata": {
        "id": "MJ5UuBkiLf8b"
      },
      "execution_count": null,
      "outputs": []
    }
  ],
  "metadata": {
    "colab": {
      "provenance": [],
      "authorship_tag": "ABX9TyMM0f9nOmn0rI3hOpcY8WwB",
      "include_colab_link": true
    },
    "kernelspec": {
      "display_name": "Python 3",
      "name": "python3"
    },
    "language_info": {
      "name": "python"
    }
  },
  "nbformat": 4,
  "nbformat_minor": 0
}