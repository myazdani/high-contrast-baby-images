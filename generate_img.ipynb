{
  "nbformat": 4,
  "nbformat_minor": 0,
  "metadata": {
    "colab": {
      "provenance": [],
      "authorship_tag": "ABX9TyMu7cvzxA+XFlU2DVZIJpJ4",
      "include_colab_link": true
    },
    "kernelspec": {
      "name": "python3",
      "display_name": "Python 3"
    },
    "language_info": {
      "name": "python"
    }
  },
  "cells": [
    {
      "cell_type": "markdown",
      "metadata": {
        "id": "view-in-github",
        "colab_type": "text"
      },
      "source": [
        "<a href=\"https://colab.research.google.com/github/myazdani/high-contrast-baby-images/blob/main/generate_img.ipynb\" target=\"_parent\"><img src=\"https://colab.research.google.com/assets/colab-badge.svg\" alt=\"Open In Colab\"/></a>"
      ]
    },
    {
      "cell_type": "markdown",
      "source": [
        "Ref: https://fleuret.org/dlc/materials/dlc-slides-9-4-optimizing-inputs.pdf"
      ],
      "metadata": {
        "id": "xc7Yt2IA0zEc"
      }
    },
    {
      "cell_type": "code",
      "execution_count": 15,
      "metadata": {
        "id": "-cB87_qzFkKN"
      },
      "outputs": [],
      "source": [
        "import torch.nn as nn\n",
        "import torch.nn.functional as F\n",
        "import torch\n",
        "import torchvision\n",
        "import torchvision.models as models\n",
        "import torchvision.transforms as transforms\n",
        "from PIL import Image\n",
        "import glob"
      ]
    },
    {
      "cell_type": "code",
      "source": [
        "class MultiScaleEdgeEnergy(nn.Module):\n",
        "    def __init__(self):\n",
        "        super().__init__()\n",
        "        k = torch.exp(- torch.tensor([[-2., -1., 0., 1., 2.]])**2 / 2)\n",
        "        k = (k.t() @ k).view(1, 1, 5, 5)\n",
        "        self.register_buffer('gaussian_5x5', k / k.sum())\n",
        "    def forward(self, x):\n",
        "        u = x.view(-1, 1, x.size(2), x.size(3))\n",
        "        result = 0.0\n",
        "        while min(u.size(2), u.size(3)) > 5:\n",
        "            blurry = F.conv2d(u, self.gaussian_5x5, padding = 2)\n",
        "            result += (u - blurry).view(u.size(0), -1).pow(2).sum(1)\n",
        "            u = F.avg_pool2d(u, kernel_size = 2, padding = 1)\n",
        "        result = result.view(x.size(0), -1).sum(1)\n",
        "        return result"
      ],
      "metadata": {
        "id": "d_vi5cQ0F0gf"
      },
      "execution_count": 2,
      "outputs": []
    },
    {
      "cell_type": "code",
      "source": [
        "#model = models.vgg16(weights = 'IMAGENET1K_V1')\n",
        "class IntermediateOutputModel(torch.nn.Module):\n",
        "    def __init__(self, original_model, layer_index=-1):\n",
        "        super(IntermediateOutputModel, self).__init__()\n",
        "        self.features = torch.nn.Sequential(*list(original_model.children())[:layer_index])\n",
        "\n",
        "    def forward(self, x):\n",
        "        x = self.features(x)\n",
        "        return x\n",
        "\n",
        "model = models.vgg16(weights = 'IMAGENET1K_V1')\n",
        "intermediate_model = IntermediateOutputModel(model.features, layer_index=1)\n",
        "#model = models.resnet50(weights=None)\n",
        "intermediate_model.eval()\n"
      ],
      "metadata": {
        "colab": {
          "base_uri": "https://localhost:8080/"
        },
        "id": "i6QS9599GNUg",
        "outputId": "cf2e7ec1-8dbe-4dff-b7bb-dfded1eb7572"
      },
      "execution_count": 61,
      "outputs": [
        {
          "output_type": "execute_result",
          "data": {
            "text/plain": [
              "IntermediateOutputModel(\n",
              "  (features): Sequential(\n",
              "    (0): Conv2d(3, 64, kernel_size=(3, 3), stride=(1, 1), padding=(1, 1))\n",
              "  )\n",
              ")"
            ]
          },
          "metadata": {},
          "execution_count": 61
        }
      ]
    },
    {
      "cell_type": "code",
      "source": [
        "edge_energy = MultiScaleEdgeEnergy()\n",
        "input = torch.empty(1, 3, 224, 224).normal_(0, 0.01)\n",
        "input.requires_grad_()\n",
        "optimizer = torch.optim.Adam([input], lr = 1e-1)\n"
      ],
      "metadata": {
        "id": "FI8b0eobGRCm"
      },
      "execution_count": 69,
      "outputs": []
    },
    {
      "cell_type": "code",
      "source": [
        "%%time\n",
        "for k in range(250):\n",
        "    output = intermediate_model(input)\n",
        "    score = edge_energy(input) - output[0, 5,0,0]\n",
        "    #output = model(input)\n",
        "    #score = edge_energy(input) - output[0, 700] # paper towel\n",
        "    optimizer.zero_grad()\n",
        "    score.backward()\n",
        "    optimizer.step()\n"
      ],
      "metadata": {
        "colab": {
          "base_uri": "https://localhost:8080/"
        },
        "id": "qd4CQubtGWBL",
        "outputId": "dbf85737-a5d0-44af-fbc7-0cbfdf2e6803"
      },
      "execution_count": 70,
      "outputs": [
        {
          "output_type": "stream",
          "name": "stdout",
          "text": [
            "CPU times: user 13.2 s, sys: 6.19 ms, total: 13.2 s\n",
            "Wall time: 13.3 s\n"
          ]
        }
      ]
    },
    {
      "cell_type": "code",
      "source": [
        "output.size(), score.size()"
      ],
      "metadata": {
        "colab": {
          "base_uri": "https://localhost:8080/"
        },
        "id": "rk_LxccmRNMZ",
        "outputId": "c34196e1-557a-42d6-8ce8-a4d1e005e4c6"
      },
      "execution_count": 71,
      "outputs": [
        {
          "output_type": "execute_result",
          "data": {
            "text/plain": [
              "(torch.Size([1, 64, 224, 224]), torch.Size([1]))"
            ]
          },
          "metadata": {},
          "execution_count": 71
        }
      ]
    },
    {
      "cell_type": "code",
      "source": [
        "result = 0.5 + 0.1 * (input - input.mean()) / input.std()\n",
        "torchvision.utils.save_image(result, 'dream-course-vgg-untrained.png')"
      ],
      "metadata": {
        "id": "cQlAz6GZGZbc"
      },
      "execution_count": 72,
      "outputs": []
    },
    {
      "cell_type": "code",
      "source": [],
      "metadata": {
        "id": "NCIEbr3vJ1Bt"
      },
      "execution_count": 30,
      "outputs": []
    }
  ]
}